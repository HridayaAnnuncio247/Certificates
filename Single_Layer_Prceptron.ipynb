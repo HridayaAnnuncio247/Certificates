{
  "nbformat": 4,
  "nbformat_minor": 0,
  "metadata": {
    "colab": {
      "provenance": [],
      "authorship_tag": "ABX9TyPe8XgUYWIw8C1Hcc7Gxyl/",
      "include_colab_link": true
    },
    "kernelspec": {
      "name": "python3",
      "display_name": "Python 3"
    },
    "language_info": {
      "name": "python"
    }
  },
  "cells": [
    {
      "cell_type": "markdown",
      "metadata": {
        "id": "view-in-github",
        "colab_type": "text"
      },
      "source": [
        "<a href=\"https://colab.research.google.com/github/HridayaAnnuncio247/Certificates/blob/main/Single_Layer_Prceptron.ipynb\" target=\"_parent\"><img src=\"https://colab.research.google.com/assets/colab-badge.svg\" alt=\"Open In Colab\"/></a>"
      ]
    },
    {
      "cell_type": "markdown",
      "source": [
        "# Single layer perceptron for Multiple Linear Regression"
      ],
      "metadata": {
        "id": "b18eG_f_o4Et"
      }
    },
    {
      "cell_type": "code",
      "execution_count": null,
      "metadata": {
        "id": "HkXmfHQQlw_0"
      },
      "outputs": [],
      "source": [
        "import numpy as np\n",
        "data = np.array([[1,2,3], [2,4,6], [3,6,9]])# row wise data, 3rd column is output value\n",
        "def initialize_weights(row):\n",
        "  \"\"\"\n",
        "    row: one row of predictor values of the data.\n",
        "    :return: list (1,n)\n",
        "  \"\"\"\n",
        "  weights = np.random.rand(1,len(row)) # random wts between 0 and 1. Random values uniformly chosen\n",
        "  return weights\n",
        "\n",
        "\n",
        "def activate(activation_function, input_sum):\n",
        "  \"\"\"\n",
        "  str activation_function: name of activation function to be used on the input_sum.\n",
        "  flo at input_sum: the dot product of inputs and their corresponding weights\n",
        "  :return: Float value\n",
        "  \"\"\"\n",
        "\n",
        "\n",
        "\n",
        "def forward_pass(row, weights, activation_function):\n",
        "  \"\"\"\n",
        "  np.array (1, n) row: one row of predictor values of the data\n",
        "  np.array (1, n) weights:\n",
        "  str activation_function: name of activation function to be used on the input_sum.\n",
        "  :return: Float  value\n",
        "  \"\"\"\n",
        "  #inputs = np.multiply(weights, row)\n",
        "  # need dot product as need to multiply element wise and then add products to subsequently pass through activation function\n",
        "  input_sum = np.multiply(weights, row)\n",
        "  activated_output = activate(activation_function, input_sum)\n",
        "  return activated_output#also the predicted output\n",
        "\n",
        "def calculate_error(predicted_output, actual_output, type_of_error):\n",
        "  \"\"\"\n",
        "  np.array(m,1) predicted_output: predicted outputs for each data row.\n",
        "  np.array(m,1) actual_output: actual output for each row of data\n",
        "  str type_of_error: the kind of error that has to be caclulated -\n",
        "                      (1) SSE -  Sum of Squared Error\n",
        "  :return: float\n",
        "  \"\"\"\n",
        "  if type_of_error == \"SSE\":\n",
        "    error = np.subtract(predicted_output, actual_output) # difference between predicted and actual outputs\n",
        "    squared_error = np.square(error)\n",
        "    sum_of_squares =\n",
        "\n",
        "\n",
        "\n",
        "def backward_pass(actual_output, predicted_output, weights, error):\n",
        "  \"\"\"\n",
        "  float error: the error value of the difference between the predicted and actual output\n",
        "  \"\"\"\n",
        "\n"
      ]
    },
    {
      "cell_type": "code",
      "source": [
        "import numpy as np\n",
        "x = np.random.rand(1,3)\n",
        "print(x)\n",
        "#print(len(x[0]))"
      ],
      "metadata": {
        "colab": {
          "base_uri": "https://localhost:8080/"
        },
        "id": "7eu6dpYtv_Qh",
        "outputId": "f644723c-ffb7-4f6e-e3d6-856b139eb571"
      },
      "execution_count": null,
      "outputs": [
        {
          "output_type": "stream",
          "name": "stdout",
          "text": [
            "[[0.05021997 0.94320464 0.66723269]]\n"
          ]
        }
      ]
    },
    {
      "cell_type": "markdown",
      "source": [],
      "metadata": {
        "id": "n20O7zS1o22V"
      }
    }
  ]
}